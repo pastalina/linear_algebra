{
  "nbformat": 4,
  "nbformat_minor": 0,
  "metadata": {
    "colab": {
      "name": "hw5.ipynb",
      "provenance": [],
      "collapsed_sections": []
    },
    "kernelspec": {
      "name": "python3",
      "display_name": "Python 3"
    },
    "language_info": {
      "name": "python"
    }
  },
  "cells": [
    {
      "cell_type": "markdown",
      "metadata": {
        "id": "WRupD-EClWaw"
      },
      "source": [
        "# Домашнее задание 5"
      ]
    },
    {
      "cell_type": "code",
      "metadata": {
        "id": "nbebWTFllNa_"
      },
      "source": [
        "import numpy as np\n",
        "np.set_printoptions(precision=2, suppress=True)"
      ],
      "execution_count": 2,
      "outputs": []
    },
    {
      "cell_type": "markdown",
      "metadata": {
        "id": "uVGv6bhinAVo"
      },
      "source": [
        "Задание 1"
      ]
    },
    {
      "cell_type": "code",
      "metadata": {
        "colab": {
          "base_uri": "https://localhost:8080/"
        },
        "id": "l4NKbykTlkmT",
        "outputId": "2a1df285-6710-45e0-aaca-d8e8c9ffda6a"
      },
      "source": [
        "A = np.array([[1, 2, 0],\n",
        "              [0, 0, 5],\n",
        "              [3, -4, 2],\n",
        "              [1, 6, 5],\n",
        "              [0, 1, 0]])\n",
        "print(f'Матрица A:\\n{A}')"
      ],
      "execution_count": 3,
      "outputs": [
        {
          "output_type": "stream",
          "name": "stdout",
          "text": [
            "Матрица A:\n",
            "[[ 1  2  0]\n",
            " [ 0  0  5]\n",
            " [ 3 -4  2]\n",
            " [ 1  6  5]\n",
            " [ 0  1  0]]\n"
          ]
        }
      ]
    },
    {
      "cell_type": "code",
      "metadata": {
        "colab": {
          "base_uri": "https://localhost:8080/"
        },
        "id": "G1LPbVcpmgfs",
        "outputId": "d2e3f98d-f89b-4be8-a72a-b39d493dc2bd"
      },
      "source": [
        "U, s, W = np.linalg.svd(A)\n",
        "\n",
        "V = W.T\n",
        "\n",
        "D = np.zeros_like(A, dtype=float)\n",
        "D[np.diag_indices(min(A.shape))] = s\n",
        "print(f'Матрица D:\\n{D}')"
      ],
      "execution_count": 5,
      "outputs": [
        {
          "output_type": "stream",
          "name": "stdout",
          "text": [
            "Матрица D:\n",
            "[[8.82 0.   0.  ]\n",
            " [0.   6.14 0.  ]\n",
            " [0.   0.   2.53]\n",
            " [0.   0.   0.  ]\n",
            " [0.   0.   0.  ]]\n"
          ]
        }
      ]
    },
    {
      "cell_type": "code",
      "metadata": {
        "colab": {
          "base_uri": "https://localhost:8080/"
        },
        "id": "v1WP7K9Pmx2r",
        "outputId": "f0e08d69-7d29-4a15-aa59-efffef35c1f9"
      },
      "source": [
        "print(f'Матрица U:\\n{U}')\n",
        "print(np.dot(U.T, U))"
      ],
      "execution_count": 6,
      "outputs": [
        {
          "output_type": "stream",
          "name": "stdout",
          "text": [
            "Матрица U:\n",
            "[[ 0.17  0.16 -0.53 -0.8  -0.16]\n",
            " [ 0.39 -0.53  0.61 -0.43  0.03]\n",
            " [-0.14 -0.82 -0.52  0.14  0.07]\n",
            " [ 0.89  0.06 -0.25  0.38 -0.06]\n",
            " [ 0.08  0.11 -0.08 -0.11  0.98]]\n",
            "[[ 1.  0. -0. -0. -0.]\n",
            " [ 0.  1.  0.  0.  0.]\n",
            " [-0.  0.  1. -0. -0.]\n",
            " [-0.  0. -0.  1. -0.]\n",
            " [-0.  0. -0. -0.  1.]]\n"
          ]
        }
      ]
    },
    {
      "cell_type": "code",
      "metadata": {
        "colab": {
          "base_uri": "https://localhost:8080/"
        },
        "id": "6mcnZsrOm3pt",
        "outputId": "01dcf7a0-77c2-4761-c8ec-57e335df472f"
      },
      "source": [
        "print(f'Матрица V:\\n{V}')\n",
        "print(np.dot(V.T, V))"
      ],
      "execution_count": 7,
      "outputs": [
        {
          "output_type": "stream",
          "name": "stdout",
          "text": [
            "Матрица V:\n",
            "[[ 0.07 -0.37 -0.93]\n",
            " [ 0.72  0.67 -0.21]\n",
            " [ 0.69 -0.65  0.31]]\n",
            "[[ 1.  0. -0.]\n",
            " [ 0.  1. -0.]\n",
            " [-0. -0.  1.]]\n"
          ]
        }
      ]
    },
    {
      "cell_type": "code",
      "metadata": {
        "colab": {
          "base_uri": "https://localhost:8080/"
        },
        "id": "Q6oKN7lZm68G",
        "outputId": "3f5928d1-b32a-4b01-9f38-3b2729d66f4a"
      },
      "source": [
        "print(np.dot(np.dot(U, D), V.T))"
      ],
      "execution_count": 8,
      "outputs": [
        {
          "output_type": "stream",
          "name": "stdout",
          "text": [
            "[[ 1.  2.  0.]\n",
            " [ 0. -0.  5.]\n",
            " [ 3. -4.  2.]\n",
            " [ 1.  6.  5.]\n",
            " [-0.  1. -0.]]\n"
          ]
        }
      ]
    },
    {
      "cell_type": "markdown",
      "metadata": {
        "id": "pIUhh6B8nG2y"
      },
      "source": [
        "Задание 2"
      ]
    },
    {
      "cell_type": "code",
      "metadata": {
        "colab": {
          "base_uri": "https://localhost:8080/"
        },
        "id": "0Su7mbSenI34",
        "outputId": "b13b35f5-28da-48d7-d0f8-c6475436c93b"
      },
      "source": [
        "print(\"Евклидова норма матрицы A:\", D[0, 0])\n",
        "np.linalg.norm(A, ord=2)"
      ],
      "execution_count": 15,
      "outputs": [
        {
          "output_type": "stream",
          "name": "stdout",
          "text": [
            "Евклидова норма матрицы A: 8.824868854820442\n"
          ]
        },
        {
          "output_type": "execute_result",
          "data": {
            "text/plain": [
              "8.824868854820444"
            ]
          },
          "metadata": {},
          "execution_count": 15
        }
      ]
    },
    {
      "cell_type": "code",
      "metadata": {
        "colab": {
          "base_uri": "https://localhost:8080/"
        },
        "id": "u5sgleOPng9P",
        "outputId": "77debdcb-109f-44c3-bcdd-5716ff437cb6"
      },
      "source": [
        "print(\"Норма Фробениуса матрицы A:\", np.linalg.norm(A, ord='fro'))\n",
        "np.linalg.norm(s)"
      ],
      "execution_count": 17,
      "outputs": [
        {
          "output_type": "stream",
          "name": "stdout",
          "text": [
            "Норма Фробениуса матрицы A: 11.045361017187261\n"
          ]
        },
        {
          "output_type": "execute_result",
          "data": {
            "text/plain": [
              "11.04536101718726"
            ]
          },
          "metadata": {},
          "execution_count": 17
        }
      ]
    }
  ]
}